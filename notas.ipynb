{
 "cells": [
  {
   "cell_type": "code",
   "execution_count": 20,
   "metadata": {},
   "outputs": [],
   "source": [
    "\n",
    "# Importacion de la librerias de Pandas y Requests\n",
    "import pandas as pd\n",
    "import requests as rq\n",
    "\n",
    "# Llave para acceder al API\n",
    "api_key = 'c5b1862985a2a3f19e175e42b0380450'\n",
    "\n",
    "\n",
    "# ****** EXTRACCIÓN ******\n",
    "\n",
    "# Se crean unas listas se de usaran durante la extracción \n",
    "response_list = []\n",
    "result = []"
   ]
  },
  {
   "cell_type": "code",
   "execution_count": 21,
   "metadata": {},
   "outputs": [],
   "source": [
    "for movie_id in range(550,556): \n",
    "  url = 'https://api.themoviedb.org/3/movie/{}?api_key={}'.format(movie_id, api_key)\n",
    "  r = rq.get(url)\n",
    "  response_list.append(r.json())"
   ]
  },
  {
   "cell_type": "code",
   "execution_count": 22,
   "metadata": {},
   "outputs": [],
   "source": [
    "df = pd.DataFrame.from_dict(response_list)\n",
    "\n",
    "# ****** TRANSFORMACIÓN ******\n",
    "\n",
    "# Se definen las columnas que se van a utilizar\n",
    "df_columns = ['budget', 'genres', 'id', 'imdb_id', 'original_title', 'release_date', 'revenue', 'runtime']"
   ]
  },
  {
   "cell_type": "code",
   "execution_count": 24,
   "metadata": {},
   "outputs": [],
   "source": [
    "df = df.drop_duplicates('original_title')\n",
    "\n",
    "# Se toman los datos de la columna genres y se conviente en una lista y \n",
    "# se convierten los diccionarios en una lista de dos columnas \n",
    "genres_list = df['genres'].to_list()\n",
    "flat_list = [item for sublist in genres_list for item in sublist]"
   ]
  }
 ],
 "metadata": {
  "kernelspec": {
   "display_name": "Python 3.11.0 64-bit",
   "language": "python",
   "name": "python3"
  },
  "language_info": {
   "codemirror_mode": {
    "name": "ipython",
    "version": 3
   },
   "file_extension": ".py",
   "mimetype": "text/x-python",
   "name": "python",
   "nbconvert_exporter": "python",
   "pygments_lexer": "ipython3",
   "version": "3.11.0"
  },
  "orig_nbformat": 4,
  "vscode": {
   "interpreter": {
    "hash": "dc33cbe7cd3342eb6bba0fe6baa8f564cdd0bdd992e6043adb2358fc49ef32e4"
   }
  }
 },
 "nbformat": 4,
 "nbformat_minor": 2
}
